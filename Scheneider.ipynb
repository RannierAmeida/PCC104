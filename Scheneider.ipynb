{
  "nbformat": 4,
  "nbformat_minor": 0,
  "metadata": {
    "colab": {
      "provenance": [],
      "toc_visible": true,
      "authorship_tag": "ABX9TyOtT0hzwVzYpuGGyQe38Lcy",
      "include_colab_link": true
    },
    "kernelspec": {
      "name": "python3",
      "display_name": "Python 3"
    },
    "language_info": {
      "name": "python"
    }
  },
  "cells": [
    {
      "cell_type": "markdown",
      "metadata": {
        "id": "view-in-github",
        "colab_type": "text"
      },
      "source": [
        "<a href=\"https://colab.research.google.com/github/RannierAmeida/PCC104/blob/main/Scheneider.ipynb\" target=\"_parent\"><img src=\"https://colab.research.google.com/assets/colab-badge.svg\" alt=\"Open In Colab\"/></a>"
      ]
    },
    {
      "cell_type": "markdown",
      "source": [
        "\n",
        "Bibletecas\n",
        "---\n",
        "\n"
      ],
      "metadata": {
        "id": "nuYprQAw-Rlj"
      }
    },
    {
      "cell_type": "code",
      "source": [
        "! pip install mip"
      ],
      "metadata": {
        "id": "C85U4tFzrd7G",
        "colab": {
          "base_uri": "https://localhost:8080/"
        },
        "outputId": "eeb6271a-a26e-4ec2-a707-934d7346b2d5"
      },
      "execution_count": null,
      "outputs": [
        {
          "output_type": "stream",
          "name": "stdout",
          "text": [
            "Requirement already satisfied: mip in /usr/local/lib/python3.10/dist-packages (1.15.0)\n",
            "Requirement already satisfied: cffi==1.15.* in /usr/local/lib/python3.10/dist-packages (from mip) (1.15.1)\n",
            "Requirement already satisfied: pycparser in /usr/local/lib/python3.10/dist-packages (from cffi==1.15.*->mip) (2.22)\n"
          ]
        }
      ]
    },
    {
      "cell_type": "code",
      "source": [
        "# !pip install gurobipy\n",
        "# !pip uninstall gurobipy"
      ],
      "metadata": {
        "id": "eQki-os-W0iB"
      },
      "execution_count": null,
      "outputs": []
    },
    {
      "cell_type": "code",
      "execution_count": null,
      "metadata": {
        "id": "pz59hQIv9scF"
      },
      "outputs": [],
      "source": [
        "#Google Drive\n",
        "from google.colab import drive\n",
        "import os\n",
        "\n",
        "#MIP\n",
        "from mip import *\n",
        "\n",
        "#Math\n",
        "import itertools\n",
        "import numpy as np\n",
        "\n",
        "#Grafos\n",
        "import networkx as nx\n",
        "\n",
        "#Graficos\n",
        "import matplotlib.pyplot as plt\n",
        "\n",
        "#Tabulação\n",
        "from tabulate import tabulate\n",
        "\n",
        "#Tempo\n",
        "import time\n",
        "\n",
        "#Gurobi\n",
        "# import gurobipy as gp\n",
        "# from gurobipy import GRB"
      ]
    },
    {
      "cell_type": "code",
      "source": [
        "from google.colab import drive\n",
        "drive.mount('/content/drive')"
      ],
      "metadata": {
        "colab": {
          "base_uri": "https://localhost:8080/"
        },
        "id": "7d4ctBOEzVsf",
        "outputId": "fa1096de-9c23-4d69-d510-564d5e2208f7"
      },
      "execution_count": null,
      "outputs": [
        {
          "output_type": "stream",
          "name": "stdout",
          "text": [
            "Mounted at /content/drive\n"
          ]
        }
      ]
    },
    {
      "cell_type": "markdown",
      "source": [
        "# Funções"
      ],
      "metadata": {
        "id": "DZUxtv_VFvva"
      }
    },
    {
      "cell_type": "code",
      "source": [
        "# Função para imprimir dados formatados com cabeçalhos\n",
        "def imprimir_dados(cabecalhos, dados):\n",
        "    # Imprimir o cabeçalho\n",
        "    print(\"\\t\".join(f\"{cabecalho:<10}\" for cabecalho in cabecalhos))\n",
        "    # Imprimir os dados\n",
        "    for dado in dados:\n",
        "        linha_formatada = \"\\t\".join(f\"{dado[cabecalho]:<10}\" for cabecalho in cabecalhos)\n",
        "        print(linha_formatada)"
      ],
      "metadata": {
        "id": "8BIeZWzGllbF"
      },
      "execution_count": null,
      "outputs": []
    },
    {
      "cell_type": "code",
      "source": [
        "def ler_arquivo_txt(caminho_arquivo):\n",
        "    dados = []\n",
        "    parametros = {}\n",
        "    quebra_parametros = False\n",
        "\n",
        "    try:\n",
        "        with open(caminho_arquivo, 'r') as arquivo:\n",
        "            # Ignorar a primeira linha, que contém os cabeçalhos\n",
        "            next(arquivo)\n",
        "            for linha in arquivo:\n",
        "                #Verifica se linha tem valores, se não tiver para código\n",
        "\n",
        "                if not linha.strip():\n",
        "                  quebra_parametros = True\n",
        "\n",
        "                  continue\n",
        "                elif quebra_parametros:\n",
        "                  Parametro = linha[0]\n",
        "                  Valor = linha.split('/')[1]\n",
        "                  parametros.update({ Parametro: float(Valor) })\n",
        "                elif  linha.strip() and not quebra_parametros:\n",
        "                  linha = linha.split()\n",
        "                  item = {\n",
        "                    'StringID': linha[0],\n",
        "\n",
        "                    'Type': linha[1],\n",
        "                    'x': float(linha[2]),\n",
        "                    'y': float(linha[3]),\n",
        "                    'demand': float(linha[4]),\n",
        "                    'ReadyTime': float(linha[5]),\n",
        "                    'DueDate': float(linha[6]),\n",
        "                    'ServiceTime': float(linha[7])\n",
        "                  }\n",
        "                  dados.append(item)\n",
        "\n",
        "                  try:\n",
        "                    item['priority'] = int(linha[8])\n",
        "                  except IndexError:\n",
        "                    item['priority'] = 0\n",
        "                  except ValueError:\n",
        "                    item['priority'] = 0\n",
        "                    dados.append(item)\n",
        "                  except FileNotFoundError:\n",
        "                    print(f\"Arquivo não encontrado: {caminho_arquivo}\")\n",
        "    except Exception as e:\n",
        "      print(f\"Erro ao ler o arquivo: {e}\")\n",
        "    return dados, parametros\n",
        "\n",
        "#Teste\n",
        "# a = ler_arquivo_txt('/content/drive/MyDrive/Mestrado/Dissertação - Rannier Almeida/Instancias/Zhang (2024)/50/C50_D5_R2.txt')"
      ],
      "metadata": {
        "id": "crS-aOoLF7Vy"
      },
      "execution_count": null,
      "outputs": []
    },
    {
      "cell_type": "code",
      "source": [
        "# Encontrar todos os caminhos de D0_0 para qualquer nó\n",
        "def find_all_paths(graph, start, end, path=[]):\n",
        "    path = path + [start]\n",
        "\n",
        "    if start == end:\n",
        "        return [path]\n",
        "\n",
        "    if start not in graph:\n",
        "        return []\n",
        "\n",
        "    paths = []\n",
        "    for node in graph[start]:\n",
        "        if node not in path:\n",
        "            new_paths = find_all_paths(graph, node, end, path)\n",
        "            for p in new_paths:\n",
        "                paths.append(p)\n",
        "\n",
        "    return paths\n",
        "\n",
        "# Imprimir todos os caminhos\n",
        "# caminhos = find_all_paths(G_plot, 'D0_0', 'D0_1')"
      ],
      "metadata": {
        "id": "bKR34KHVOPuJ"
      },
      "execution_count": null,
      "outputs": []
    },
    {
      "cell_type": "markdown",
      "source": [
        "# Input"
      ],
      "metadata": {
        "id": "G0LH9E5o-bAw"
      }
    },
    {
      "cell_type": "code",
      "source": [
        "# Monta o Google Drive\n",
        "drive.mount('/content/drive')"
      ],
      "metadata": {
        "id": "r1R96mWe-fbG",
        "colab": {
          "base_uri": "https://localhost:8080/"
        },
        "outputId": "651d001b-f880-49d1-cf1b-1f26cbb6ebb6"
      },
      "execution_count": null,
      "outputs": [
        {
          "output_type": "stream",
          "name": "stdout",
          "text": [
            "Drive already mounted at /content/drive; to attempt to forcibly remount, call drive.mount(\"/content/drive\", force_remount=True).\n"
          ]
        }
      ]
    },
    {
      "cell_type": "code",
      "source": [
        "from ast import excepthandler\n",
        "#Cabeçalho\n",
        "print(\"Nome: Rannier Salles de Almeida\")\n",
        "print(\"Curso: Mestrado de Ciência da Computação - Otimização\")\n",
        "print(\"Universidade: Universidade Federal de Ouro Preto (UFOP)\")\n",
        "print(\"Orientador: Puca Huachi\")\n",
        "print(\"Objetivo: Implementação Zhang MIP\")\n",
        "print(\"Versão:\")\n",
        "print(\"_\" * 60)\n",
        "\n",
        "\n",
        "\n",
        "# Caminhos das pastas onde estão os arquivos CSV\n",
        "caminho_pasta = [\n",
        "     '/content/drive/MyDrive/Mestrado/Dissertação - Rannier Almeida/Instancias/Scheneider (2014)/',\n",
        "    #  '/content/drive/MyDrive/Mestrado/Dissertação - Rannier Almeida/Instancias/Zhang (2024)/50/',\n",
        "    # '/content/drive/MyDrive/Mestrado/Dissertação - Rannier Almeida/Instancias/Zhang (2024)/75/',\n",
        "    # '/content/drive/MyDrive/Mestrado/Dissertação - Rannier Almeida/Instancias/Zhang (2024)/125/',\n",
        "    # '/content/drive/MyDrive/Mestrado/Dissertação - Rannier Almeida/Instancias/Zhang (2024)/100/'\n",
        "]\n",
        "\n",
        "arquivos = []\n",
        "# Print Menu\n",
        "indice = 0\n",
        "print(\"\\nEscolha a sua Instância:\\n\")\n",
        "\n",
        "# Lista todos os arquivos na pasta\n",
        "for caminho in caminho_pasta:\n",
        "    for arquivo in os.listdir(caminho):\n",
        "        if arquivo.endswith('.txt'):\n",
        "            # Construir o URL completo\n",
        "            url_arquivo = os.path.join(caminho, arquivo)\n",
        "            arquivos.append((arquivo, url_arquivo))\n",
        "            print(f\"Instância {indice}: {arquivo}\")\n",
        "            indice += 1\n",
        "\n",
        "# Leitura do arquivo\n",
        "leitura_valida = False\n",
        "\n",
        "while not leitura_valida:\n",
        "  try:\n",
        "      #indice_instancia = 79\n",
        "      indice_instancia = int(input(\"Digite o índice da instância desejada: \"))\n",
        "      nome_arquivo, url_arquivo = arquivos[indice_instancia]\n",
        "      print(f\"Você selecionou a instância {nome_arquivo}. URL: {url_arquivo}\")\n",
        "      print(url_arquivo)\n",
        "      dados, parametros = ler_arquivo_txt(url_arquivo)\n",
        "      leitura_valida = True\n",
        "  except (ValueError, IndexError):\n",
        "      print(\"Índice inválido\")"
      ],
      "metadata": {
        "id": "amQWv675_f9g",
        "colab": {
          "base_uri": "https://localhost:8080/"
        },
        "outputId": "fa1992d2-79e2-40f4-bc5e-fcd93909b63b"
      },
      "execution_count": null,
      "outputs": [
        {
          "output_type": "stream",
          "name": "stdout",
          "text": [
            "Nome: Rannier Salles de Almeida\n",
            "Curso: Mestrado de Ciência da Computação - Otimização\n",
            "Universidade: Universidade Federal de Ouro Preto (UFOP)\n",
            "Orientador: Puca Huachi\n",
            "Objetivo: Implementação Zhang MIP\n",
            "Versão:\n",
            "____________________________________________________________\n",
            "\n",
            "Escolha a sua Instância:\n",
            "\n",
            "Instância 0: c106_21.txt\n",
            "Instância 1: c109_21.txt\n",
            "Instância 2: c103_21.txt\n",
            "Instância 3: c108_21.txt\n",
            "Instância 4: c102_21.txt\n",
            "Instância 5: c101C10.txt\n",
            "Instância 6: c202C10.txt\n",
            "Instância 7: c106C15.txt\n",
            "Instância 8: c104_21.txt\n",
            "Instância 9: c104C10.txt\n",
            "Instância 10: c107_21.txt\n",
            "Instância 11: c201_21.txt\n",
            "Instância 12: c202_21.txt\n",
            "Instância 13: c103C15.txt\n",
            "Instância 14: c103C5.txt\n",
            "Instância 15: c105_21.txt\n",
            "Instância 16: c206C5.txt\n",
            "Instância 17: r101_21.txt\n",
            "Instância 18: c205C10.txt\n",
            "Instância 19: c206_21.txt\n",
            "Instância 20: r102C15.txt\n",
            "Instância 21: c208_21.txt\n",
            "Instância 22: c203_21.txt\n",
            "Instância 23: r102C10.txt\n",
            "Instância 24: r105C15.txt\n",
            "Instância 25: r103_21.txt\n",
            "Instância 26: r102_21.txt\n",
            "Instância 27: r104C5.txt\n",
            "Instância 28: r104_21.txt\n",
            "Instância 29: c202C15.txt\n",
            "Instância 30: r105_21.txt\n",
            "Instância 31: c207_21.txt\n",
            "Instância 32: c205_21.txt\n",
            "Instância 33: c208C5.txt\n",
            "Instância 34: c204_21.txt\n",
            "Instância 35: r103C10.txt\n",
            "Instância 36: c208C15.txt\n",
            "Instância 37: r105C5.txt\n",
            "Instância 38: r207_21.txt\n",
            "Instância 39: r204_21.txt\n",
            "Instância 40: r202C5.txt\n",
            "Instância 41: r203_21.txt\n",
            "Instância 42: r109_21.txt\n",
            "Instância 43: r107_21.txt\n",
            "Instância 44: r110_21.txt\n",
            "Instância 45: r201_21.txt\n",
            "Instância 46: r202_21.txt\n",
            "Instância 47: r202C15.txt\n",
            "Instância 48: r111_21.txt\n",
            "Instância 49: r108_21.txt\n",
            "Instância 50: r208_21.txt\n",
            "Instância 51: r205_21.txt\n",
            "Instância 52: r209_21.txt\n",
            "Instância 53: r203C5.txt\n",
            "Instância 54: r112_21.txt\n",
            "Instância 55: r206_21.txt\n",
            "Instância 56: r201C10.txt\n",
            "Instância 57: r203C10.txt\n",
            "Instância 58: r106_21.txt\n",
            "Instância 59: rc201C10.txt\n",
            "Instância 60: r209C15.txt\n",
            "Instância 61: rc103C15.txt\n",
            "Instância 62: rc108C5.txt\n",
            "Instância 63: rc104_21.txt\n",
            "Instância 64: rc108C10.txt\n",
            "Instância 65: r211_21.txt\n",
            "Instância 66: rc105C5.txt\n",
            "Instância 67: rc105_21.txt\n",
            "Instância 68: rc107_21.txt\n",
            "Instância 69: rc106_21.txt\n",
            "Instância 70: rc103_21.txt\n",
            "Instância 71: r210_21.txt\n",
            "Instância 72: rc108C15.txt\n",
            "Instância 73: rc102_21.txt\n",
            "Instância 74: rc201_21.txt\n",
            "Instância 75: rc101_21.txt\n",
            "Instância 76: rc108_21.txt\n",
            "Instância 77: rc102C10.txt\n",
            "Instância 78: c101_21.txt\n",
            "Instância 79: c101C5.txt\n",
            "Instância 80: rc207_21.txt\n",
            "Instância 81: rc205C10.txt\n",
            "Instância 82: rc204C5.txt\n",
            "Instância 83: rc206_21.txt\n",
            "Instância 84: rc208_21.txt\n",
            "Instância 85: rc204C15.txt\n",
            "Instância 86: rc208C5.txt\n",
            "Instância 87: rc203_21.txt\n",
            "Instância 88: rc202_21.txt\n",
            "Instância 89: readme.txt\n",
            "Instância 90: rc204_21.txt\n",
            "Instância 91: rc202C15.txt\n",
            "Instância 92: rc205_21.txt\n",
            "Instância 93: c103C5 - Alterado.txt\n",
            "Digite o índice da instância desejada: 14\n",
            "Você selecionou a instância c103C5.txt. URL: /content/drive/MyDrive/Mestrado/Dissertação - Rannier Almeida/Instancias/Scheneider (2014)/c103C5.txt\n",
            "/content/drive/MyDrive/Mestrado/Dissertação - Rannier Almeida/Instancias/Scheneider (2014)/c103C5.txt\n"
          ]
        }
      ]
    },
    {
      "cell_type": "code",
      "source": [
        "# Define os cabeçalhos\n",
        "cabecalhos = ['StringID', 'x', 'y', 'demand', 'ReadyTime', 'DueDate', 'ServiceTime', 'priority']\n",
        "\n",
        "# Print the file name at the top\n",
        "print(f\"Instância: {nome_arquivo}\\n\")\n",
        "\n",
        "# Separate the data by type\n",
        "depositos = [dado for dado in dados if dado['Type'] == 'd']\n",
        "estacoes_recarga = [dado for dado in dados if dado['Type'] == 'f' and dado['StringID'] != 'S0']\n",
        "clientes = [dado for dado in dados if dado['Type'] == 'c']\n",
        "\n",
        "# Print the data separated by type\n",
        "print(\"Depósitos:\")\n",
        "imprimir_dados(cabecalhos, depositos)\n",
        "\n",
        "print(\"\\nEstações de recarga:\")\n",
        "imprimir_dados(cabecalhos, estacoes_recarga)\n",
        "\n",
        "print(\"\\nClientes:\")\n",
        "imprimir_dados(cabecalhos, clientes)\n"
      ],
      "metadata": {
        "id": "BlSVkwiVHSUq",
        "colab": {
          "base_uri": "https://localhost:8080/"
        },
        "outputId": "be34b5b3-e814-423f-84b3-752b14f8dc1e"
      },
      "execution_count": null,
      "outputs": [
        {
          "output_type": "stream",
          "name": "stdout",
          "text": [
            "Instância: c103C5.txt\n",
            "\n",
            "Depósitos:\n",
            "StringID  \tx         \ty         \tdemand    \tReadyTime \tDueDate   \tServiceTime\tpriority  \n",
            "D0        \t40.0      \t50.0      \t0.0       \t0.0       \t1236.0    \t0.0       \t0         \n",
            "\n",
            "Estações de recarga:\n",
            "StringID  \tx         \ty         \tdemand    \tReadyTime \tDueDate   \tServiceTime\tpriority  \n",
            "S15       \t39.0      \t26.0      \t0.0       \t0.0       \t1236.0    \t0.0       \t0         \n",
            "\n",
            "Clientes:\n",
            "StringID  \tx         \ty         \tdemand    \tReadyTime \tDueDate   \tServiceTime\tpriority  \n",
            "C20       \t30.0      \t50.0      \t10.0      \t0.0       \t1136.0    \t90.0      \t0         \n",
            "C98       \t58.0      \t75.0      \t20.0      \t0.0       \t1115.0    \t90.0      \t0         \n",
            "C65       \t48.0      \t40.0      \t10.0      \t67.0      \t139.0     \t90.0      \t0         \n",
            "C57       \t40.0      \t15.0      \t40.0      \t989.0     \t1063.0    \t90.0      \t0         \n",
            "C24       \t25.0      \t50.0      \t10.0      \t0.0       \t1131.0    \t90.0      \t0         \n"
          ]
        }
      ]
    },
    {
      "cell_type": "markdown",
      "source": [
        "# Scheneider\n"
      ],
      "metadata": {
        "id": "zT5hLSQtaPYK"
      }
    },
    {
      "cell_type": "code",
      "source": [
        "# Conjuntos\n",
        "N = [{'id': cliente['StringID'], 'x': cliente['x'], 'ServiceTime':cliente['ServiceTime'], 'DueDate':cliente['DueDate'], 'ReadyTime':cliente['ReadyTime'],\n",
        "      'y': cliente['y'], 'demanda': cliente['demand'], 'tipo': 'c', 'cor_no': 'whitesmoke', 'pos': (cliente['x'], cliente['y'])} for cliente in clientes]\n",
        "D_0 = [{'id': deposito['StringID'] + '_0', 'x': deposito['x'], 'ServiceTime':deposito['ServiceTime'],'DueDate':deposito['DueDate'], 'ReadyTime':deposito['ReadyTime'],\n",
        "      'y': deposito['y'], 'demanda': deposito['demand'], 'tipo': 'd0', 'cor_no': 'plum', 'pos': (deposito['x'], deposito['y'])} for deposito in depositos]\n",
        "D_1 = [{'id': deposito['StringID'] + '_1', 'x': deposito['x'], 'ServiceTime':deposito['ServiceTime'],'DueDate':deposito['DueDate'], 'ReadyTime':deposito['ReadyTime'],\n",
        "      'y': deposito['y'], 'demanda': deposito['demand'], 'tipo': 'd1', 'cor_no': 'plum', 'pos': (deposito['x'], deposito['y'])} for deposito in depositos]\n",
        "F = []\n",
        "\n",
        "#Criterio de Estações\n",
        "n_dummy_estações = 2\n",
        "ni = 0\n",
        "for i in N:\n",
        "  if ni >= n_dummy_estações:\n",
        "    break\n",
        "  else:\n",
        "    ni += 1\n",
        "    print(i['id'])\n",
        "    F.extend([{'id': estacao['StringID'] + '@' + str(ni), 'x': estacao['x'], 'ServiceTime':estacao['ServiceTime'],'DueDate':estacao['DueDate'], 'ReadyTime':estacao['ReadyTime'],\n",
        "       'y': estacao['y'], 'demanda': estacao['demand'], 'tipo': 'f', 'cor_no': 'palegreen', 'pos': (estacao['x'], estacao['y'])} for estacao in estacoes_recarga])\n",
        "\n",
        " # Estações de recarga\n",
        "# D_Dummy = []\n",
        "\n",
        "F_linha = F\n",
        "F_0_linha = F + D_0\n",
        "V = N\n",
        "V_linha = N + F_linha\n",
        "V_0_linha = V_linha + D_0\n",
        "V_N1_linha = V_linha + D_1\n",
        "V_0_N1_linha = V_0_linha + D_1\n",
        "\n",
        "#Parametros\n",
        "\n",
        "C = parametros['C']  #Capacidade de carga\n",
        "Q = parametros['Q']  #Capacidade bateria\n",
        "h =  parametros['r']  #Taxa de consumo de bateria\n",
        "g = parametros['g'] #Taxa de recarga de bateria\n",
        "Vel = parametros['v']  #Velocidade de deslocamento\n",
        "l0 = D_0[0]['DueDate'] #Horario maximo de retorno para deposito\n",
        "\n",
        "#Teste\n",
        "# print(D_0)\n",
        "# print(D_1)\n",
        "\n",
        "print('Q:', Q)\n",
        "print('C: ',C)\n",
        "print('h: ',h)\n",
        "print('g: ',g)\n",
        "print('v: ',Vel)\n",
        "print('l0: ',l0, end = '\\n\\n')\n",
        "# for i in N:\n",
        "#   print(i['id'])\n",
        "# for i in F:\n",
        "#   print(i['id'])\n",
        "for i in V_0_N1_linha:\n",
        "  print(i['id'])"
      ],
      "metadata": {
        "id": "gSQdxC-dkmJ8",
        "colab": {
          "base_uri": "https://localhost:8080/"
        },
        "outputId": "9847ff4b-941c-404e-9511-69d92cae8866"
      },
      "execution_count": null,
      "outputs": [
        {
          "output_type": "stream",
          "name": "stdout",
          "text": [
            "C20\n",
            "C98\n",
            "Q: 77.75\n",
            "C:  200.0\n",
            "h:  1.0\n",
            "g:  3.47\n",
            "v:  1.0\n",
            "l0:  1236.0\n",
            "\n",
            "C20\n",
            "C98\n",
            "C65\n",
            "C57\n",
            "C24\n",
            "S15@1\n",
            "S15@2\n",
            "D0_0\n",
            "D0_1\n"
          ]
        }
      ]
    },
    {
      "cell_type": "code",
      "source": [
        "# Grafo\n",
        "G = nx.DiGraph()\n",
        "\n",
        "# Adiciona vértices ao grafo\n",
        "for vertice in V_0_N1_linha:\n",
        "    G.add_node(vertice['id'], pos=vertice['pos'], cor_no=vertice['cor_no'], qi=vertice['demanda'], tipo=vertice['tipo'],\n",
        "               e_i = vertice['ReadyTime'], # e_i Inicio do Serviço mais cedo no vertice\n",
        "               l_i = vertice['DueDate'], # l_i Inicio do serviço mais tarde no vertice\n",
        "               s_i = vertice['ServiceTime'], # s_i Service Time\n",
        "              #  t_i = None, # t_i Variavel de decisão com tempo de chegada\n",
        "              #  u_i = None, # u_i Varivael de decisão com carga restante no vertice i\n",
        "              #  y_i = None, # y_i Variavel de decisão com bateria restante no vertice\n",
        "               F =  vertice['tipo'] == 'f',\n",
        "               F_0 =  vertice['tipo'] == 'f' or vertice['tipo'] == 'd0',\n",
        "               V = vertice['tipo'] == 'c',\n",
        "               V_0 = vertice['tipo'] == 'c' or vertice['tipo'] == 'd0',\n",
        "               V_f = vertice['tipo'] == 'c' or vertice['tipo'] == 'f',\n",
        "               V_0_f = vertice['tipo'] == 'c' or vertice['tipo'] == 'd0' or vertice['tipo'] == 'f',\n",
        "               V_N1_f = vertice['tipo'] == 'c' or vertice['tipo'] == 'd1' or vertice['tipo'] == 'f',\n",
        "               V_0_N1_f = vertice['tipo'] == 'c' or vertice['tipo'] == 'd0' or vertice['tipo'] == 'd1' or vertice['tipo'] == 'f',\n",
        "               D_0 = vertice['tipo'] == 'd0',\n",
        "               D_1 = vertice['tipo'] == 'd1'\n",
        "               )\n",
        "    # print(f\"{vertice['id']} \\t demanda: {G.nodes[vertice['id']]['qi']}\")\n",
        "\n",
        "# Conecta grafo\n",
        "for i in G.nodes:\n",
        "  if G.nodes[i]['V_0_f']:\n",
        "    for j in G.nodes:\n",
        "        if i != j and G.nodes[j]['V_N1_f'] == True:\n",
        "            # Distancia de Manhattan\n",
        "            # temp_dij = abs(G.nodes[i]['pos'][0] - G.nodes[j]['pos'][0]) + abs(G.nodes[i]['pos'][1] - G.nodes[j]['pos'][1])\n",
        "            # Distancia Euclidiana\n",
        "            temp_dij = np.sqrt((G.nodes[i]['pos'][0] - G.nodes[j]['pos'][0])**2 + (G.nodes[i]['pos'][1] - G.nodes[j]['pos'][1])**2)\n",
        "            G.add_edge(i, j,\n",
        "                       d_ij= temp_dij,\n",
        "                       t_ij = temp_dij / Vel,\n",
        "                      #  x_ij = 0,\n",
        "                       Ativo = False ,\n",
        "                       iV0f_jVN1 = G.nodes[i]['V_0_f'] == True and G.nodes[j]['V_N1_f'] == True)\n",
        "  # xij se trajeto é utilizado ou não\n",
        "\n",
        "# for i in G.nodes:\n",
        "#   for j in G.nodes:\n",
        "#     if G.has_edge(i,j) and G.nodes[i]['pos'] == G.nodes[j]['pos']:\n",
        "#       G.edges[i,j]['d_ij'] = G.edges[i,j]['t_ij']\n",
        "#       G.edges[i,j]['t_ij'] =\n"
      ],
      "metadata": {
        "id": "i6RC5vOtrfFk"
      },
      "execution_count": null,
      "outputs": []
    },
    {
      "cell_type": "markdown",
      "source": [
        "# Linear\n"
      ],
      "metadata": {
        "id": "jr6scZMGaSdP"
      }
    },
    {
      "cell_type": "markdown",
      "source": [
        "**Modelo Schneider**"
      ],
      "metadata": {
        "id": "dbcs2dtsxR0-"
      }
    },
    {
      "cell_type": "code",
      "source": [
        "#Modelo\n",
        "M = Model('Schneider')\n",
        "\n",
        "#Variaveis\n",
        "x_ij_vars = {} # Dicionário para armazenar as variáveis x_ij\n",
        "for i in G.nodes:\n",
        "  if  G.nodes[i]['V_0_f'] == True:\n",
        "    for j in G.nodes:\n",
        "      if G.nodes[j]['V_N1_f'] == True and i != j:\n",
        "        x_ij_vars[i, j] = M.add_var(var_type=BINARY, name=f\"x_{i}_{j}\")\n",
        "\n",
        "t_i_vars = {} # Dicionário para armazenar as variáveis t_i\n",
        "u_i_vars = {} # Dicionário para armazenar as variáveis u_i\n",
        "y_i_vars = {} # Dicionário para armazenar as variáveis y_i\n",
        "\n",
        "for v in G.nodes:\n",
        "  if G.nodes[v]['V_0_N1_f'] == True:\n",
        "    t_i_vars[v] = M.add_var(var_type=CONTINUOUS, name=f\"t_{v}\", lb=0, ub = l0 )\n",
        "    u_i_vars[v] = M.add_var(var_type=CONTINUOUS, name=f\"u_{v}\", lb=0, ub = C)\n",
        "    y_i_vars[v] = M.add_var(var_type=CONTINUOUS, name=f\"y_{v}\", lb=0, ub = Q)\n",
        "\n",
        "#Restrições\n",
        "\n",
        "  # #Equação 2 Schneider - Conectivade de clientes e depoisito final em todos os clientes\n",
        "for i in G.nodes:\n",
        "  if G.nodes[i]['V'] == True:\n",
        "    M += xsum(x_ij_vars[i, j] for j in G.nodes if (i,j) in G.edges and G.nodes[j]['V_N1_f'] == True and i != j ) == 1\n",
        "\n",
        "  # #Equação 3  - Estaçõe de recarga\n",
        "for i in G.nodes:\n",
        "  if G.nodes[i]['F'] == True:\n",
        "    M += xsum(x_ij_vars[i, j] for j in G.nodes if (i,j) in G.edges and G.nodes[j]['V_N1_f'] == True and i != j) <= 1\n",
        "\n",
        "  # #Equação 4 - Conservação do fluxo\n",
        "for j in G.nodes:\n",
        "  if G.nodes[j]['V_f'] == True:\n",
        "    M +=  xsum(x_ij_vars[j, i] for i in G.nodes if G.nodes[i]['V_N1_f'] == True and i != j and G.has_edge(j,i))\n",
        "    - xsum(x_ij_vars[i, j] for i in G.nodes if G.nodes[i]['V_0_f'] == True and i != j and G.has_edge(i,j)) == 0\n",
        "\n",
        "  # #Equação 5 - Viabilidade temportal arcos saindo do cliente e deposito\n",
        "for i in G.nodes:\n",
        "  if G.nodes[i]['V_0'] == True:\n",
        "    for j in G.nodes:\n",
        "      if G.nodes[j]['V_N1_f'] == True and i != j and G.has_edge(i,j):\n",
        "        M += t_i_vars[i] + ((G.edges[i, j]['t_ij'] +  G.nodes[i]['s_i'])* x_ij_vars[i, j]) - l0 * ( 1 - x_ij_vars[i, j])  <= t_i_vars[j]\n",
        "\n",
        "  # #Equação 6 - Viabilidade temportal arcos estações de recarga\n",
        "for i in G.nodes:\n",
        "  if G.nodes[i]['F'] == True:\n",
        "    for j in G.nodes:\n",
        "      if G.nodes[j]['V_N1_f'] == True and i != j and G.has_edge(i,j):\n",
        "        M += t_i_vars[i] + (G.edges[i, j]['t_ij'] * x_ij_vars[i, j]) + g * (Q - y_i_vars[i]) - (l0 + g*Q)*(1 - x_ij_vars[i, j]) <= t_i_vars[j]\n",
        "\n",
        "  # #Equação 7 - Viabilidade temporal\n",
        "for j in G.nodes:\n",
        "  if G.nodes[j]['V_0_N1_f'] == True:\n",
        "    M += G.nodes[j]['e_i']  <= t_i_vars[j]\n",
        "    M += t_i_vars[j] <= G.nodes[j]['l_i']\n",
        "\n",
        "  # # Equação 8 - Viabilidade de Carga\n",
        "for i in G.nodes:\n",
        "  if G.nodes[i]['V_0_f'] == True:\n",
        "     for j in G.nodes:\n",
        "       if G.nodes[j]['V_N1_f'] == True and i != j and G.has_edge(i,j) and i != j:\n",
        "         M += u_i_vars[j]  >= 0\n",
        "         M += u_i_vars[j]  <= u_i_vars[i] - G.nodes[i]['qi'] * x_ij_vars[i, j] + C * ( 1 - x_ij_vars[i, j])\n",
        "\n",
        "  # Equação 9 - Não negatividade e restrição de limite de carga\n",
        "for i in G.nodes:\n",
        "  if G.nodes[i]['D_0'] == True:\n",
        "    M += u_i_vars[i] >= 0\n",
        "    M += u_i_vars[i] <= C\n",
        "    # M += y_i_vars[i] == Q Teste Bateria maxima\n",
        "\n",
        "  # Equação 10 - Viabilidade bateria\n",
        "for i in G.nodes:\n",
        "  if G.nodes[i]['V'] == True:\n",
        "    for j in G.nodes:\n",
        "      if G.nodes[j]['V_N1_f'] == True and G.has_edge(i,j) and i != j:\n",
        "        M += y_i_vars[j] >= 0\n",
        "        M += y_i_vars[j] <= y_i_vars[i] - (h * G.edges[i, j]['d_ij']) * x_ij_vars[i, j] + Q * (1 - x_ij_vars[i, j])\n",
        "\n",
        "  #Equação 11 - Viabilidade bateria\n",
        "for i in G.nodes:\n",
        "  if G.nodes[i]['F_0'] == True:\n",
        "    for j in G.nodes:\n",
        "      if G.nodes[j]['V_N1_f'] == True and G.has_edge(i,j) and i != j:\n",
        "        M += y_i_vars[j] >= 0\n",
        "        M += y_i_vars[j] <= Q - (h * G.edges[i, j]['d_ij']) * x_ij_vars[i, j]\n",
        "\n",
        "#Função Objetivo\n",
        "M.objective = minimize(\n",
        "    xsum(x_ij_vars[i, j] * G.edges[i, j]['d_ij'] for i,j in G.edges if G.has_edge(i,j) and G.nodes[i]['V_0_f'] == True and G.nodes[j]['V_N1_f'] and i != j) +\n",
        "    xsum(x_ij_vars[i, j]*200 for i,j in G.edges if G.has_edge(i,j) and G.nodes[i]['D_0'] == True)\n",
        "  )\n",
        "\n",
        "#Otimiza\n",
        "inicio = time.time()\n",
        "M.optimize(max_seconds=300)\n",
        "fim = time.time()\n",
        "print(f'Duração: {fim - inicio} (s)')\n",
        "foVeiculos = 0\n",
        "for i in G.nodes:\n",
        "  for j in G.nodes:\n",
        "    if G.has_edge(i,j) and G.nodes[i]['D_0'] == True and x_ij_vars[i,j].x >= 1.0:\n",
        "      foVeiculos += 100\n",
        "\n",
        "# Define se arco esta sendo exibido\n",
        "G_plot = G.copy()\n",
        "for u, v in G_plot.edges:\n",
        "    G_plot.edges[u, v]['xij'] = x_ij_vars[u, v].x\n",
        "edges_to_remove = [(u, v) for u, v, d in G_plot.edges(data=True) if 'xij' in d and not d['xij']]\n",
        "G_plot.remove_edges_from(edges_to_remove)\n",
        "pos = nx.get_node_attributes(G_plot, 'pos')\n",
        "\n",
        "# Desenha o grafo\n",
        "cores_nos = [G_plot.nodes[n]['cor_no'] for n in G_plot.nodes]\n",
        "nx.draw(G_plot, pos, with_labels=True, node_size=200, node_color=cores_nos, font_size=6, font_color='black', edge_color='gray', arrowsize=5, width = 0.5)\n",
        "#Titulo do grafo\n",
        "plt.title(f\"{nome_arquivo}\")\n",
        "# Exibe o grafo\n",
        "plt.figure(figsize=(40, 40))\n",
        "plt.show()\n",
        "\n",
        "print(35*'-')\n",
        "print(f\"Custo total: {M.objective_value}\")\n",
        "print(f\"Custo EV: {foVeiculos}\")\n",
        "print(f'Custo s/ EV: {M.objective_value-foVeiculos}')\n",
        "print(35*'-', end='\\n\\n')\n",
        "caminhos = find_all_paths(G_plot, 'D0_0','D0_1')\n",
        "for caminho in caminhos:\n",
        "    print(caminho)"
      ],
      "metadata": {
        "id": "UvYDlRtyuz0W",
        "colab": {
          "base_uri": "https://localhost:8080/",
          "height": 678
        },
        "outputId": "ecb044fa-c05a-482b-c223-3787b3a3e27e"
      },
      "execution_count": null,
      "outputs": [
        {
          "output_type": "stream",
          "name": "stdout",
          "text": [
            "Duração: 0.056027889251708984 (s)\n"
          ]
        },
        {
          "output_type": "display_data",
          "data": {
            "text/plain": [
              "<Figure size 640x480 with 1 Axes>"
            ],
            "image/png": "[encoded data removed]"
          },
          "metadata": {}
        },
        {
          "output_type": "display_data",
          "data": {
            "text/plain": [
              "<Figure size 4000x4000 with 0 Axes>"
            ]
          },
          "metadata": {}
        },
        {
          "output_type": "stream",
          "name": "stdout",
          "text": [
            "-----------------------------------\n",
            "Custo total: 69.65745309355168\n",
            "Custo EV: 0\n",
            "Custo s/ EV: 69.65745309355168\n",
            "-----------------------------------\n",
            "\n"
          ]
        }
      ]
    },
    {
      "cell_type": "code",
      "source": [
        "for caminho in caminhos:\n",
        "  tabulado = []\n",
        "  distACM = 0\n",
        "  for index, vertice in enumerate(caminho):\n",
        "    try:\n",
        "      distACM += G.edges[caminho[index-1], vertice]['d_ij']\n",
        "      tabulado.append([caminho[index-1],caminho[index], t_i_vars[vertice].x,u_i_vars[vertice].x,G.nodes[caminho[index]]['qi'], y_i_vars[vertice].x, G.edges[caminho[index-1], vertice]['d_ij'], distACM] )\n",
        "    except:\n",
        "      print('\\n\\n')\n",
        "    # print(f\"x_{i}_{j}: {x_ij_vars[i, j].x}\")\n",
        "  tabulado = tabulate(tabulado, headers=['i','j', 'tempo chegada(j)', 'carga chegada(j)', 'demanda (j)', 'bateria chegada(j)', 'distancia percorrida(i,j)', 'distancia ACM'])\n",
        "  print(tabulado, '\\n')"
      ],
      "metadata": {
        "id": "EelSSo2AWjc8"
      },
      "execution_count": null,
      "outputs": []
    },
    {
      "cell_type": "code",
      "source": [
        "matriz_distancias = nx.to_numpy_array(G)\n",
        "cabecalhos = list(G.nodes)\n",
        "\n",
        "print(\"Matriz de Distâncias:\")\n",
        "print()\n",
        "i = 0\n",
        "for v in G.nodes():\n",
        "  if(i==0):\n",
        "    for c in cabecalhos:\n",
        "      print(f'\\t{c}', end='')\n",
        "      i=1\n",
        "    # print('\\n')\n",
        "  print(f'\\n|{v}\\t', end='')\n",
        "  for j in G.nodes():\n",
        "      if G.has_edge(v,j):\n",
        "        print(f'|{G.edges[v,j][\"d_ij\"]:.1f}', end='\\t')\n",
        "      else:\n",
        "         print('|X', end='\\t')\n",
        "\n",
        "\n"
      ],
      "metadata": {
        "id": "YqsblmRhZOE7",
        "colab": {
          "base_uri": "https://localhost:8080/"
        },
        "outputId": "535a323c-1f10-45fe-ad9d-b0c1e9ea49d8"
      },
      "execution_count": null,
      "outputs": [
        {
          "output_type": "stream",
          "name": "stdout",
          "text": [
            "Matriz de Distâncias:\n",
            "\n",
            "\tC20\tC98\tC65\tC57\tC24\tS15@1\tS15@2\tD0_0\tD0_1\n",
            "|C20\t|X\t|37.5\t|20.6\t|36.4\t|5.0\t|25.6\t|25.6\t|X\t|10.0\t\n",
            "|C98\t|37.5\t|X\t|36.4\t|62.6\t|41.4\t|52.6\t|52.6\t|X\t|30.8\t\n",
            "|C65\t|20.6\t|36.4\t|X\t|26.2\t|25.1\t|16.6\t|16.6\t|X\t|12.8\t\n",
            "|C57\t|36.4\t|62.6\t|26.2\t|X\t|38.1\t|11.0\t|11.0\t|X\t|35.0\t\n",
            "|C24\t|5.0\t|41.4\t|25.1\t|38.1\t|X\t|27.8\t|27.8\t|X\t|15.0\t\n",
            "|S15@1\t|25.6\t|52.6\t|16.6\t|11.0\t|27.8\t|X\t|0.0\t|X\t|24.0\t\n",
            "|S15@2\t|25.6\t|52.6\t|16.6\t|11.0\t|27.8\t|0.0\t|X\t|X\t|24.0\t\n",
            "|D0_0\t|10.0\t|30.8\t|12.8\t|35.0\t|15.0\t|24.0\t|24.0\t|X\t|0.0\t\n",
            "|D0_1\t|X\t|X\t|X\t|X\t|X\t|X\t|X\t|X\t|X\t"
          ]
        }
      ]
    },
    {
      "cell_type": "markdown",
      "source": [
        "# Heuristic"
      ],
      "metadata": {
        "id": "xkd7j0N8Eh9k"
      }
    },
    {
      "cell_type": "markdown",
      "source": [
        "## Funções"
      ],
      "metadata": {
        "id": "lEPVBK444eXV"
      }
    },
    {
      "cell_type": "code",
      "source": [
        "def calculaFO(Modelo):\n",
        "  fo = 0\n",
        "  for i in Modelo.nodes():\n",
        "    for j in Modelo.nodes:\n",
        "      if Modelo.has_edge(i,j) and Modelo.edges[i,j]['Ativo'] == 1:\n",
        "        fo += G.edges[i,j]['d_ij']\n",
        "\n"
      ],
      "metadata": {
        "id": "KN9pHRMx4hus"
      },
      "execution_count": null,
      "outputs": []
    },
    {
      "cell_type": "code",
      "source": [
        "def verificaModelo(Modelo):\n",
        "  somatorioTeste = 0\n",
        "  ##2 Schneider - Conectivade de clientes e depoisito final em todos os clientes\n",
        "  for i in Modelo.Nodes():\n",
        "    for j in Modelo.Nodes:\n",
        "      if Modelo.has_edge(i,j) and Modelo.edges[i,j]['Ativo'] == 1 and Modelo.node[i]['V'] == True and Modelo.node[j]['V_N1_f'] == True:\n",
        "        somatorioTeste += 1\n",
        "    if somatorioTeste != 1:\n",
        "      return False\n",
        "    somatorioTeste = 0\n",
        "\n",
        "  #Equação 3  - Estaçõe de recarga\n",
        "  for i in Modelo.nodes:\n",
        "    if Modelo.nodes[i]['F'] == True:\n",
        "      for j in Modelo.nodes:\n",
        "        if Modelo.nodes[j]['V_N1_f'] == True and i != j and Modelo.edges[i,j]['Ativo'] == 1:\n",
        "          somatorioTeste += 1\n",
        "      if somatorioTeste > 1:\n",
        "        return False\n",
        "\n",
        "  # #Equação 4 - Conservação do fluxo\n",
        "  for j in G.nodes:\n",
        "    if G.nodes[j]['V_f'] == True:\n",
        "      M +=  xsum(x_ij_vars[j, i] for i in G.nodes if G.nodes[i]['V_N1_f'] == True and i != j and G.has_edge(j,i))\n",
        "      - xsum(x_ij_vars[i, j] for i in G.nodes if G.nodes[i]['V_0_f'] == True and i != j and G.has_edge(i,j)) == 0\n",
        "\n",
        "\n",
        "\n",
        "\n",
        "\n",
        "\n",
        "\n",
        "# for i in G.nodes:\n",
        "#   if G.nodes[i]['V'] == True:\n",
        "#     M += xsum(x_ij_vars[i, j] for j in G.nodes if (i,j) in G.edges and G.nodes[j]['V_N1_f'] == True and i != j ) == 1\n"
      ],
      "metadata": {
        "id": "XNbCwuDg7Xsl"
      },
      "execution_count": null,
      "outputs": []
    },
    {
      "cell_type": "markdown",
      "source": [
        "# Guloso"
      ],
      "metadata": {
        "id": "R1huSrLi6zDt"
      }
    }
  ]
}